{
 "cells": [
  {
   "cell_type": "raw",
   "metadata": {},
   "source": [
    "---\n",
    "layout: blog\n",
    "title: Python Snippets\n",
    "---"
   ]
  },
  {
   "cell_type": "markdown",
   "metadata": {},
   "source": [
    "# Default imports"
   ]
  },
  {
   "cell_type": "markdown",
   "metadata": {},
   "source": [
    "The following code shows the default libraries I import and commands I use at the beginning of nearly every notebook."
   ]
  },
  {
   "cell_type": "code",
   "execution_count": 1,
   "metadata": {},
   "outputs": [],
   "source": [
    "from fastai.imports import *\n",
    "from fastai.structured import *\n",
    "from matplotlib.pyplot import figure\n",
    "sns.set()\n",
    "\n",
    "%load_ext autoreload\n",
    "%autoreload 2\n",
    "\n",
    "%matplotlib inline"
   ]
  },
  {
   "cell_type": "markdown",
   "metadata": {},
   "source": [
    "The `from fastai...` commands handle most of the libraries I want to import. These short commands might make the process somewhat opaque, having to look up the imports in the fastai .py files themselves if one wants to know what exactly was imported, but saves long lines of `import xyz`  at the beginning of every notebook. The detailed imports fastai makes can be looked up [here](https://github.com/fastai/fastai/tree/master/fastai)."
   ]
  },
  {
   "cell_type": "markdown",
   "metadata": {},
   "source": [
    "# Jupyter specifics"
   ]
  },
  {
   "cell_type": "markdown",
   "metadata": {},
   "source": [
    "So called \"magic commands\" are functions specific to Jupyter which are called by putting \"%\" in front of the command.  \n",
    "`%timeit` measures the execution duration of a function. `%prun` runs a function through the python profiler which analyses the runtime of each part of the function and subfunctions called.\n",
    "```python\n",
    "%timeit func()\n",
    "%prun func()\n",
    "```\n",
    "If you run a cell and get an exception, `%debug` is your friend. The `%debug` magic opens an interactive debugger that brings you to where the exception occurred and allows you to step in and out of the functions called.\n",
    "https://twitter.com/radekosmulski/status/945739571735748609\n",
    "\n",
    "\n",
    "<br>\n",
    "Access bash commands by using `!` beforehands and use curly brackets to access Python variables in Jupyter. Following command prints the content of a specific folder in Jupyter.\n",
    "```python\n",
    "PATH = \"path/to/folder/\"\n",
    "!ls {PATH}\n",
    "```\n",
    "<br>\n",
    "<br>\n",
    "**Bash**\n",
    "\n",
    "Get a sense of the dataset before importing it (especially handy and fast when handling very big datasets).\n",
    "```python\n",
    "!head path/to/file.csv\n",
    "```\n",
    "<br>\n",
    "Show the contents of a folder and its sizes. `-l` shows file or directory size, modified date and time, file or folder name and owner of file and its permission. The `h` option prints the output in 'Human Readable Format'.\n",
    "```python\n",
    "!ls -lh\n",
    "```\n",
    "<br>\n",
    "`wc` is a bash command that counts words, lines, and bytes or character. Following command counts mumber of newlines.\n",
    "```\n",
    "wc -l\n",
    "```"
   ]
  },
  {
   "cell_type": "markdown",
   "metadata": {},
   "source": [
    "___"
   ]
  },
  {
   "cell_type": "markdown",
   "metadata": {},
   "source": [
    "# Python"
   ]
  },
  {
   "cell_type": "markdown",
   "metadata": {},
   "source": [
    "**Get overview of dataset**\n",
    "```python\n",
    "def get_overview_of_dataset(FILES):\n",
    "    OVERVIEW = {}\n",
    "    for xml_file in FILES:\n",
    "        key = xml_file[:xml_file.find('msg')].replace(\"A_\",\"\")\n",
    "        if key not in OVERVIEW:\n",
    "            OVERVIEW[key] = 0\n",
    "        OVERVIEW[key] += 1\n",
    "        \n",
    "    return OVERVIEW\n",
    "```\n",
    "\n",
    "**Datetime**\n",
    "\n",
    "|Type|Description|\n",
    "|-----|:-----|\n",
    "|%Y|Four-digit year|\n",
    "|%y|Two-digit year|\n",
    "|%m|Two-digit month [01, 12]|\n",
    "|%d|Two-digit day [01, 31]|\n",
    "|%H|Hour (24-hour clock) [00, 23]|\n",
    "|%I|Hour (12-hour clock) [01, 12]|\n",
    "|%M|Two-digit minute [00, 59]|\n",
    "|%S|Second [00, 61] (seconds 60, 61 account for leap seconds) |\n",
    "|%w|Weekday as integer [0 (Sunday), 6]|\n",
    "|%U|Week number of the year [00, 53];<br>Sunday is considered the first day of the week,<br>and days before the first Sunday of the year are “week 0”|\n",
    "|%W|Week number of the year [00, 53];<br>Monday is considered the first day of the week,<br>and days before the first Monday of the year are “week 0”|\n",
    "|%z|UTC time zone offset as+HHMMor-HHMM;<br>empty if time zone naive %F Shortcut for%Y-%m-%d(e.g.,2012-4-18)|\n",
    "|%D|Shortcut for%m/%d/%y(e.g.,04/18/12)|\n",
    "\n",
    "**Data types**\n",
    "\n",
    "Tuple: immutable - only if an object inside a tuple is mutable, such as a list, you can modify it in-place.  \n",
    "List:  mutable - variable-length and their contents can be modified in-place.\n",
    "Dict: mutable - a flexibly sized collection of key-value pairs, where key and value are Python objects.\n",
    "\n",
    "**Ternary expressions**  \n",
    "```python\n",
    "if condition:\n",
    "    value = true-expr\n",
    "else:\n",
    "    value = false-expr\n",
    "    \n",
    "value = true-expr if condition else false-expr\n",
    "```\n",
    "\n",
    "**Unpacking/Destructuring**  \n",
    "```python\n",
    "tup = 4, 5, (6, 7)\n",
    "a, b, (c, d) = tup\n",
    "```\n",
    "\n",
    "**Swapping variables**  \n",
    "```python\n",
    "tmp = a\n",
    "a = b\n",
    "b = tmp\n",
    "\n",
    "b, a = a, b\n",
    "```\n",
    "\n",
    "**zip**  \n",
    "\n",
    "`zip` “pairs” up the elements of a number of lists, tuples, or other sequences to create a list of tuples:\n",
    "```python\n",
    "seq1 = ['foo', 'bar', 'baz']\n",
    "seq2 = ['one', 'two', 'three']\n",
    "zipped = zip(seq1, seq2)\n",
    "list(zipped)\n",
    "#[('foo', 'one'), ('bar', 'two'), ('baz', 'three')]\n",
    "```\n",
    "\n"
   ]
  },
  {
   "cell_type": "markdown",
   "metadata": {},
   "source": [
    "___"
   ]
  },
  {
   "cell_type": "markdown",
   "metadata": {},
   "source": [
    "# Visualization"
   ]
  },
  {
   "cell_type": "markdown",
   "metadata": {},
   "source": [
    "## Using a consistent color palette"
   ]
  },
  {
   "cell_type": "markdown",
   "metadata": {},
   "source": [
    "Because humans easily attach meaning to various colors subconsciously , it's important to visualize plots in a consistent manner. When drawing diagrams manually, it's a good idea to choose from a consistent color palette. To do so, a consistent color palette can be defined in a dictionary in python:\n",
    "\n",
    "```python\n",
    "colors = {\n",
    "    'crimson': '#a50026', 'red': '#d73027', 'redorange': '#f46d43',\n",
    "    'orange': '#fdae61', 'yellow': '#fee090', 'sky': '#e0f3f8',\n",
    "    'babyblue': '#abd9e9', 'lightblue': '#74add1', 'blue': '#4575b4',\n",
    "    'purple': '#313695'\n",
    "}\n",
    "```\n",
    "The colors can now be looked up by using `colors['red']`, rather than relying on whatever the default red color is for matplotlib or the any other library. An additional benefit is that the color palette can now be designed in a way that is accessible to people with forms of colorblindness. [colorbrewer2.org](https://www.colorbrewer2.org) is a nice site for selecting color pallets which allows a subselection of \"colorblind safe\" pallets.  \n",
    "For further information see [explained.ai](https://mlbook.explained.ai/prep.html).\n",
    "\n",
    "The code snippet below shows, how the colors match to specific days, even when the order is different. The mapping is done by using pandas' `map` [function](https://pandas.pydata.org/pandas-docs/stable/generated/pandas.Index.map.html), where the indices are mapped to a dict."
   ]
  },
  {
   "cell_type": "code",
   "execution_count": 9,
   "metadata": {
    "scrolled": false
   },
   "outputs": [
    {
     "data": {
      "image/png": "[encoded data removed]",
      "text/plain": [
       "<Figure size 1152x360 with 2 Axes>"
      ]
     },
     "metadata": {},
     "output_type": "display_data"
    }
   ],
   "source": [
    "colors = {'crimson': '#a50026', 'red': '#d73027', 'redorange': '#f46d43',\n",
    "          'orange': '#fdae61', 'yellow': '#fee090', 'sky': '#e0f3f8',\n",
    "          'babyblue': '#abd9e9', 'lightblue': '#74add1', 'blue': '#4575b4',\n",
    "          'purple': '#313695'}\n",
    "\n",
    "tips = sns.load_dataset(\"tips\")\n",
    "\n",
    "color_mapping = {'Thur': colors['orange'],\n",
    "                 'Fri': colors['purple'],\n",
    "                 'Sat': colors['blue'],\n",
    "                 'Sun': colors['babyblue']}\n",
    "\n",
    "plt.figure(figsize=(16,5))\n",
    "plt.subplot(1,2,1)\n",
    "plt.title('Tips')\n",
    "plt.bar(x = tips.groupby(by='day')['tip'].sum().index, height = tips.groupby(by='day')['tip'].sum(), color = tips.groupby(by='day')['tip'].sum().index.map(color_mapping))\n",
    "plt.subplot(1,2,2)\n",
    "plt.title('Total Bill')\n",
    "plt.bar(x = tips.groupby(by='day')['total_bill'].sum().sort_values().index, height = tips.groupby(by='day')['total_bill'].sum().sort_values(), color = tips.groupby(by='day')['total_bill'].sum().sort_values().index.map(color_mapping));"
   ]
  },
  {
   "cell_type": "markdown",
   "metadata": {},
   "source": [
    "___"
   ]
  },
  {
   "cell_type": "markdown",
   "metadata": {},
   "source": [
    "## Stripplot"
   ]
  },
  {
   "cell_type": "markdown",
   "metadata": {},
   "source": [
    "The Python module seaborn has a neat plot called `stripplot()` to compare the distribution of categorical variables. Using `sns.set()` beforehands sets the theme to seaborn defaults which makes somewhat easier to read in my opinion."
   ]
  },
  {
   "cell_type": "code",
   "execution_count": 8,
   "metadata": {},
   "outputs": [
    {
     "data": {
      "image/png": "[encoded data removed]",
      "text/plain": [
       "<Figure size 432x288 with 1 Axes>"
      ]
     },
     "metadata": {},
     "output_type": "display_data"
    }
   ],
   "source": [
    "sns.stripplot(x=\"day\", y=\"total_bill\", data=tips);"
   ]
  },
  {
   "cell_type": "markdown",
   "metadata": {},
   "source": [
    "The `jtter` parameter controls how dispersed the datapoints are."
   ]
  },
  {
   "cell_type": "code",
   "execution_count": 5,
   "metadata": {
    "scrolled": false
   },
   "outputs": [
    {
     "data": {
      "image/png": "[encoded data removed]",
      "text/plain": [
       "<Figure size 432x288 with 1 Axes>"
      ]
     },
     "metadata": {},
     "output_type": "display_data"
    }
   ],
   "source": [
    "sns.stripplot(x=\"day\", y=\"total_bill\", jitter=False, data=tips);"
   ]
  },
  {
   "cell_type": "markdown",
   "metadata": {},
   "source": [
    "## Plot size"
   ]
  },
  {
   "cell_type": "markdown",
   "metadata": {},
   "source": [
    "Set the size of the plots by defining the `figsize`."
   ]
  },
  {
   "cell_type": "markdown",
   "metadata": {},
   "source": [
    "```python\n",
    "import matplotlib.pyplot as plt\n",
    "plt.figure(figsize=(12,12))\n",
    "```"
   ]
  },
  {
   "cell_type": "markdown",
   "metadata": {},
   "source": [
    "## Rotate labels"
   ]
  },
  {
   "cell_type": "markdown",
   "metadata": {},
   "source": [
    "Rotate the labels of your plot to make them readable if they are too long by setting the `xticks` or `yticks` attributes of the plot."
   ]
  },
  {
   "cell_type": "code",
   "execution_count": 10,
   "metadata": {},
   "outputs": [
    {
     "data": {
      "image/png": "[encoded data removed]",
      "text/plain": [
       "<Figure size 432x288 with 1 Axes>"
      ]
     },
     "metadata": {},
     "output_type": "display_data"
    }
   ],
   "source": [
    "sns.stripplot(x=\"day\", y=\"total_bill\", jitter=False, data=tips);\n",
    "plt.xticks(rotation=90);"
   ]
  },
  {
   "cell_type": "markdown",
   "metadata": {},
   "source": [
    "___"
   ]
  },
  {
   "cell_type": "markdown",
   "metadata": {},
   "source": [
    "# Numpy\n",
    "\n",
    "`import numpy as np`\n",
    "\n",
    "get the indexes of a random subsample of y\n",
    "```python\n",
    "idxs = np.random.permutation(len(y))[:sample_sz]\n",
    "```\n",
    "<br>\n",
    "return X starting form the (start) element to the (finish) element\n",
    "```python\n",
    "X[start:finish]\n",
    "```\n",
    "<br>\n",
    "return every element in X but only in the column with index 0 (meaning the 1st column) \n",
    "```python\n",
    "X[:,0]\n",
    "```\n",
    "<br>\n",
    "return every elemtn in X but only the columns with index 1 and 2 (the last row is omitted)\n",
    "```python\n",
    "X[:,1:3]\n",
    "```\n",
    "<br>\n",
    "return the last element (starts at end minus one -> only last element remains)\n",
    "```python\n",
    "cols[-1:]\n",
    "```\n",
    "<br>\n",
    "return every element **except** the last one (starts at 0 and goes up to the end minus one)\n",
    "```python\n",
    "cols[:-1]\n",
    "```\n",
    "<br>\n",
    "return a tuple of the array dimensions, the dimensions can be accessed via X.shape[0], number depends on which dimension you want; .shape is (rows, columns)\n",
    "```python\n",
    "X.shape\n",
    "```\n",
    "<br>\n",
    "return the sum of an array running vertically downwards across rows and along columns (axis 0) or running horizontally across columns and along rows (axis 1)\n",
    "```python\n",
    "x.sum(axis=1)\n",
    "```\n",
    "<br>\n",
    "return an array from 4.5 to 1.5, divided into 100 equal parts\n",
    "```python\n",
    "xvals = np.linspace(4.5,1.5,100)\n",
    "```\n",
    "<br>\n",
    ".reshape gives a new shape to an array without changing its data; matrices can be reshaped using the parameter -1; numpy allow us to give one of new shape parameter as -1 (eg: (2,-1) or (-1,3) but not (-1, -1)). It simply means that it is an unknown dimension and we want numpy to figure it out.\n",
    "```python\n",
    ".reshape((3, 2))\n",
    "array([[0, 1],\n",
    "       [2, 3],\n",
    "       [4, 5]])\n",
    "```\n",
    "<br>\n",
    "select rows in a matrix compared to values in a different matrix\n",
    "```python\n",
    "pos = np.array([X[i] for i in xrange(X.shape[0]) if y[i] == 1])\n",
    "neg = np.array([X[i] for i in xrange(X.shape[0]) if y[i] == 0])\n",
    "```\n",
    "<br>"
   ]
  },
  {
   "cell_type": "markdown",
   "metadata": {},
   "source": [
    "___"
   ]
  },
  {
   "cell_type": "markdown",
   "metadata": {},
   "source": [
    "# pandas\n",
    "\n",
    "read file and convert to dataframe\n",
    "```python\n",
    "data = pd.DataFrame(pd.read_table('data/ex2data1.txt'))\n",
    "```\n",
    "<br>\n",
    "get a glimpse of the data\n",
    "```python\n",
    "data.head(10)\n",
    "```\n",
    "<br>\n",
    "compare two dataframes and print dropped columns\n",
    "```python\n",
    "df2 = df.dropna(axis=1, how='any')\n",
    "for c in df.columns:\n",
    "    if c not in df2.columns:\n",
    "        print(c, end=\", \")\n",
    "```\n",
    "<br>"
   ]
  },
  {
   "cell_type": "markdown",
   "metadata": {},
   "source": [
    "___"
   ]
  },
  {
   "cell_type": "markdown",
   "metadata": {},
   "source": [
    "# fastai\n",
    "\n",
    "add_datepart converts a column of df from a datetime64 to many columns containing the information from the date. This applies changes inplace.\n",
    "```python\n",
    "add_datepart(df, 'A')\n",
    "```\n",
    "```\n",
    "     AYear AMonth AWeek ADay ADayofweek ADayofyear AIs_month_end AIs_month_start AIs_quarter_end AIs_quarter_start AIs_year_end AIs_year_start AElapsed\n",
    "    0   2000  3      10    11   5          71         False         False           False           False             False        False          952732800\n",
    "    1   2000  3      10    12   6          72         False         False           False           False             False        False          952819200\n",
    "    2   2000  3      11    13   0          73         False         False           False           False             False        False          952905600\n",
    "```"
   ]
  },
  {
   "cell_type": "markdown",
   "metadata": {},
   "source": [
    "---\n",
    "the code below can be ignored and serves only my worfklow"
   ]
  },
  {
   "cell_type": "markdown",
   "metadata": {},
   "source": [
    "!jupyter nbconvert --to markdown python_snippets.ipynb --output README.md"
   ]
  },
  {
   "cell_type": "code",
   "execution_count": 2,
   "metadata": {
    "scrolled": true
   },
   "outputs": [
    {
     "name": "stdout",
     "output_type": "stream",
     "text": [
      "[NbConvertApp] Converting notebook python_snippets.ipynb to markdown\n",
      "[NbConvertApp] Support files will be in ../../fabiange/_posts/2018-02-17-python_snippets_files/\n",
      "[NbConvertApp] Making directory ../../fabiange/_posts/2018-02-17-python_snippets_files/../../fabiange/_posts\n",
      "[NbConvertApp] Making directory ../../fabiange/_posts/2018-02-17-python_snippets_files/../../fabiange/_posts\n",
      "[NbConvertApp] Making directory ../../fabiange/_posts/2018-02-17-python_snippets_files/../../fabiange/_posts\n",
      "[NbConvertApp] Making directory ../../fabiange/_posts/2018-02-17-python_snippets_files/../../fabiange/_posts\n",
      "[NbConvertApp] Writing 11056 bytes to ../../fabiange/_posts/2018-02-17-python_snippets.md\n"
     ]
    }
   ],
   "source": [
    "!jupyter nbconvert --to markdown python_snippets.ipynb --output ../../fabiange/_posts/2018-02-17-python_snippets.md"
   ]
  },
  {
   "cell_type": "code",
   "execution_count": null,
   "metadata": {},
   "outputs": [],
   "source": []
  }
 ],
 "metadata": {
  "kernelspec": {
   "display_name": "Python 3",
   "language": "python",
   "name": "python3"
  },
  "language_info": {
   "codemirror_mode": {
    "name": "ipython",
    "version": 3
   },
   "file_extension": ".py",
   "mimetype": "text/x-python",
   "name": "python",
   "nbconvert_exporter": "python",
   "pygments_lexer": "ipython3",
   "version": "3.6.5"
  }
 },
 "nbformat": 4,
 "nbformat_minor": 2
}
